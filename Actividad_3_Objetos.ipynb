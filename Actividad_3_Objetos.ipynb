{
  "nbformat": 4,
  "nbformat_minor": 0,
  "metadata": {
    "colab": {
      "provenance": []
    },
    "kernelspec": {
      "name": "python3",
      "display_name": "Python 3"
    },
    "language_info": {
      "name": "python"
    }
  },
  "cells": [
    {
      "cell_type": "code",
      "execution_count": 13,
      "metadata": {
        "colab": {
          "base_uri": "https://localhost:8080/"
        },
        "id": "0k_UZP7v-OiR",
        "outputId": "5aab0267-4981-489d-9cf9-258300084585"
      },
      "outputs": [
        {
          "output_type": "stream",
          "name": "stdout",
          "text": [
            "Nombre: Juan Pérez, Departamento: Ingeniería, Salario: $50000, Foto: https://virtual.cuc.edu.co/hubfs/Imported_Blog_Media/trabajo-para-ingeniero-de-sistemas-.jpg\n",
            "Nombre: Juan Pérez\n",
            "Departamento: Ingeniería\n",
            "Salario: $50000\n",
            "Foto: https://virtual.cuc.edu.co/hubfs/Imported_Blog_Media/trabajo-para-ingeniero-de-sistemas-.jpg\n",
            "Nombre: Juan Pérez, Departamento: Ingeniería, Salario: $55000, Foto: https://virtual.cuc.edu.co/hubfs/Imported_Blog_Media/trabajo-para-ingeniero-de-sistemas-.jpg\n",
            "Error: El salario no puede ser negativo.\n",
            "Nombre: Juan Pérez, Departamento: Ingeniería, Salario: $55000, Foto: https://virtual.cuc.edu.co/hubfs/Imported_Blog_Media/trabajo-para-ingeniero-de-sistemas-.jpg\n"
          ]
        }
      ],
      "source": [
        "from datetime import date\n",
        "\n",
        "class EmpleadoUniversitario:\n",
        "    def __init__(self, nombre, departamento, salario, foto=None):\n",
        "        self._nombre = nombre\n",
        "        self._departamento = departamento\n",
        "        self._salario = salario\n",
        "        self._foto = foto\n",
        "   # Getters\n",
        "    @property\n",
        "    def nombre(self):\n",
        "        return self._nombre\n",
        "\n",
        "    @property\n",
        "    def departamento(self):\n",
        "        return self._departamento\n",
        "\n",
        "    @property\n",
        "    def salario(self):\n",
        "        return self._salario\n",
        "\n",
        "    @property\n",
        "    def foto(self):\n",
        "        return self._foto\n",
        "\n",
        "    # Setters\n",
        "    @nombre.setter\n",
        "    def nombre(self, nuevo_nombre):\n",
        "        self._nombre = nuevo_nombre\n",
        "\n",
        "    @departamento.setter\n",
        "    def departamento(self, nuevo_departamento):\n",
        "        self._departamento = nuevo_departamento\n",
        "\n",
        "    @salario.setter\n",
        "    def salario(self, nuevo_salario):\n",
        "        if nuevo_salario < 0:\n",
        "            print(\"Error: El salario no puede ser negativo.\")\n",
        "        else:\n",
        "            self._salario = nuevo_salario\n",
        "\n",
        "    @foto.setter\n",
        "    def foto(self, nueva_foto):\n",
        "        self._foto = nueva_foto\n",
        "\n",
        "    def get_info(self):\n",
        "        info = f\"Nombre: {self._nombre}, Departamento: {self._departamento}, Salario: ${self._salario}\"\n",
        "        if self._foto:\n",
        "            info += f\", Foto: {self._foto}\"\n",
        "        return info\n",
        "\n",
        "\n",
        "if __name__ == \"__main__\":\n",
        "    empleado = EmpleadoUniversitario(\"Juan Pérez\", \"Ingeniería\", 50000, \"https://virtual.cuc.edu.co/hubfs/Imported_Blog_Media/trabajo-para-ingeniero-de-sistemas-.jpg\")\n",
        "    print(empleado.get_info())\n",
        "\n",
        "    #\n",
        "    print(f\"Nombre: {empleado.nombre}\")\n",
        "    print(f\"Departamento: {empleado.departamento}\")\n",
        "    print(f\"Salario: ${empleado.salario}\")\n",
        "    print(f\"Foto: {empleado.foto}\")\n",
        "\n",
        "    #\n",
        "    empleado.salario = 55000\n",
        "    print(empleado.get_info())\n",
        "    empleado.salario = -1000  # Esto mostrará el mensaje de error\n",
        "    empleado.foto = \"https://virtual.cuc.edu.co/hubfs/Imported_Blog_Media/trabajo-para-ingeniero-de-sistemas-.jpg\"\n",
        "    print(empleado.get_info())"
      ]
    },
    {
      "cell_type": "code",
      "source": [],
      "metadata": {
        "id": "rscmY3SUAeX1"
      },
      "execution_count": null,
      "outputs": []
    }
  ]
}