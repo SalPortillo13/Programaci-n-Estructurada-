{
  "cells": [
    {
      "cell_type": "code",
      "execution_count": null,
      "metadata": {
        "colab": {
          "base_uri": "https://localhost:8080/"
        },
        "id": "nb2n2eCl8XPG",
        "outputId": "4dddc7fa-a0bb-483a-a34d-544e70a68a02"
      },
      "outputs": [
        {
          "name": "stdout",
          "output_type": "stream",
          "text": [
            "\u001b[2K     \u001b[90m━━━━━━━━━━━━━━━━━━━━━━━━━━━━━━━━━━━━━━━━\u001b[0m \u001b[32m44.3/44.3 kB\u001b[0m \u001b[31m1.6 MB/s\u001b[0m eta \u001b[36m0:00:00\u001b[0m\n",
            "\u001b[2K   \u001b[90m━━━━━━━━━━━━━━━━━━━━━━━━━━━━━━━━━━━━━━━━\u001b[0m \u001b[32m9.7/9.7 MB\u001b[0m \u001b[31m47.8 MB/s\u001b[0m eta \u001b[36m0:00:00\u001b[0m\n",
            "\u001b[2K   \u001b[90m━━━━━━━━━━━━━━━━━━━━━━━━━━━━━━━━━━━━━━━━\u001b[0m \u001b[32m6.9/6.9 MB\u001b[0m \u001b[31m53.3 MB/s\u001b[0m eta \u001b[36m0:00:00\u001b[0m\n",
            "\u001b[2K   \u001b[90m━━━━━━━━━━━━━━━━━━━━━━━━━━━━━━━━━━━━━━━━\u001b[0m \u001b[32m79.1/79.1 kB\u001b[0m \u001b[31m4.9 MB/s\u001b[0m eta \u001b[36m0:00:00\u001b[0m\n",
            "\u001b[?25h"
          ]
        }
      ],
      "source": [
        "!pip install -q streamlit"
      ]
    },
    {
      "cell_type": "code",
      "execution_count": null,
      "metadata": {
        "colab": {
          "base_uri": "https://localhost:8080/"
        },
        "id": "jk1rwDrS8eRu",
        "outputId": "86bbb7cd-5a5c-4733-a07d-e5e269c1b04b"
      },
      "outputs": [
        {
          "name": "stdout",
          "output_type": "stream",
          "text": [
            "\u001b[1G\u001b[0K⠙\u001b[1G\u001b[0K⠹\u001b[1G\u001b[0K⠸\u001b[1G\u001b[0K⠼\u001b[1G\u001b[0K⠴\u001b[1G\u001b[0K⠦\u001b[1G\u001b[0K⠧\u001b[1G\u001b[0K⠇\u001b[1G\u001b[0K⠏\u001b[1G\u001b[0K⠋\u001b[1G\u001b[0K⠙\u001b[1G\u001b[0K⠹\u001b[1G\u001b[0K⠸\u001b[1G\u001b[0K⠼\u001b[1G\u001b[0K⠴\u001b[1G\u001b[0K⠦\u001b[1G\u001b[0K⠧\u001b[1G\u001b[0K⠇\u001b[1G\u001b[0K⠏\u001b[1G\u001b[0K⠋\u001b[1G\u001b[0K⠙\u001b[1G\u001b[0K⠹\u001b[1G\u001b[0K⠸\u001b[1G\u001b[0K⠼\u001b[1G\u001b[0K⠴\u001b[1G\u001b[0K⠦\u001b[1G\u001b[0K⠧\u001b[1G\u001b[0K⠇\u001b[1G\u001b[0K⠏\u001b[1G\u001b[0K⠋\u001b[1G\u001b[0K⠙\u001b[1G\u001b[0K⠹\u001b[1G\u001b[0K\n",
            "added 22 packages in 4s\n",
            "\u001b[1G\u001b[0K⠹\u001b[1G\u001b[0K\n",
            "\u001b[1G\u001b[0K⠹\u001b[1G\u001b[0K3 packages are looking for funding\n",
            "\u001b[1G\u001b[0K⠹\u001b[1G\u001b[0K  run `npm fund` for details\n",
            "\u001b[1G\u001b[0K⠹\u001b[1G\u001b[0K"
          ]
        }
      ],
      "source": [
        "!npm install localtunnel"
      ]
    },
    {
      "cell_type": "code",
      "execution_count": null,
      "metadata": {
        "id": "EsMWyFNi8eOu"
      },
      "outputs": [],
      "source": [
        "import streamlit as st\n",
        "\n",
        "class GestorTareas:\n",
        "    def _init_(self):\n",
        "        if 'tareas' not in st.session_state:\n",
        "            st.session_state.tareas = []\n",
        "\n",
        "    def crear_pendiente(self, texto, es_prioritario=False):\n",
        "        if texto:\n",
        "            st.session_state.tareas.append({\n",
        "                'id': len(st.session_state.tareas) + 1,\n",
        "                'texto': texto,\n",
        "                'prioritario': es_prioritario\n",
        "            })\n",
        "            return True\n",
        "        return False\n",
        "\n",
        "    def crear_pendiente_prioritario(self, texto):\n",
        "        return self.crear_pendiente(texto, True)\n",
        "\n",
        "    def borrar_pendiente(self, id_tarea):\n",
        "        for i, tarea in enumerate(st.session_state.tareas):\n",
        "            if tarea['id'] == id_tarea:\n",
        "                st.session_state.tareas.pop(i)\n",
        "                return True\n",
        "        return False\n",
        "\n",
        "    def borrar_todo(self):\n",
        "        st.session_state.tareas = []\n",
        "\n",
        "\n",
        "st.title(\"Gestor de Tareas\")\n",
        "\n",
        "# Inicializar gestor\n",
        "gestor = GestorTareas()\n",
        "\n",
        "# Panel de entrada\n",
        "col1, col2 = st.columns([3, 1])\n",
        "with col1:\n",
        "    texto = st.text_input(\"Nueva tarea\")\n",
        "with col2:\n",
        "    prioritario = st.checkbox(\"Prioritaria\")\n",
        "\n",
        "# Botones de acción\n",
        "col1, col2, col3 = st.columns([1, 1, 2])\n",
        "with col1:\n",
        "    if st.button(\"Crear\"):\n",
        "        if texto:\n",
        "            gestor.crear_pendiente(texto, prioritario)\n",
        "            st.success(\"✅ Tarea creada\")\n",
        "with col2:\n",
        "    if st.button(\"Borrar Todo\"):\n",
        "        gestor.borrar_todo()\n",
        "        st.warning(\"🗑️ Todas las tareas borradas\")\n",
        "\n",
        "# Mostrar tareas\n",
        "st.subheader(\"Mis Tareas\")\n",
        "\n",
        "# Mostrar primero las prioritarias\n",
        "for tarea in st.session_state.tareas:\n",
        "    if tarea['prioritario']:\n",
        "        col1, col2 = st.columns([5, 1])\n",
        "        with col1:\n",
        "            st.markdown(f\"🔴 *{tarea['texto']}*\")\n",
        "        with col2:\n",
        "            if st.button(\"🗑️\", key=f\"del_{tarea['id']}\"):\n",
        "                gestor.borrar_pendiente(tarea['id'])\n",
        "                st.experimental_rerun()\n",
        "\n",
        "# Luego mostrar las normales\n",
        "for tarea in st.session_state.tareas:\n",
        "    if not tarea['prioritario']:\n",
        "        col1, col2 = st.columns([5, 1])\n",
        "        with col1:\n",
        "            st.write(tarea['texto'])\n",
        "        with col2:\n",
        "            if st.button(\"🗑️\", key=f\"del_normal_{tarea['id']}\"):\n",
        "                gestor.borrar_pendiente(tarea['id'])\n",
        "                st.experimental_rerun()"
      ]
    },
    {
      "cell_type": "code",
      "execution_count": null,
      "metadata": {
        "id": "WntwghTo8eMO"
      },
      "outputs": [],
      "source": [
        "!streamlit run /content/app.py &>/content/logs.txt &"
      ]
    },
    {
      "cell_type": "code",
      "execution_count": null,
      "metadata": {
        "colab": {
          "background_save": true,
          "base_uri": "https://localhost:8080/"
        },
        "id": "dBvko1xy8eJm",
        "outputId": "826e6cd8-2ef1-4c01-81a4-4225ca867199"
      },
      "outputs": [
        {
          "name": "stdout",
          "output_type": "stream",
          "text": [
            "\u001b[1G\u001b[0K⠙\u001b[1G\u001b[0Kyour url is: https://silver-wombats-wink.loca.lt\n"
          ]
        }
      ],
      "source": [
        "!npx localtunnel --port 8501"
      ]
    },
    {
      "cell_type": "code",
      "execution_count": null,
      "metadata": {
        "id": "sIH8LYHg8eAF"
      },
      "outputs": [],
      "source": []
    }
  ],
  "metadata": {
    "colab": {
      "provenance": []
    },
    "kernelspec": {
      "display_name": "Python 3",
      "name": "python3"
    },
    "language_info": {
      "name": "python"
    }
  },
  "nbformat": 4,
  "nbformat_minor": 0
}