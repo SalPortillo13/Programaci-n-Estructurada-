{
  "nbformat": 4,
  "nbformat_minor": 0,
  "metadata": {
    "colab": {
      "provenance": []
    },
    "kernelspec": {
      "name": "python3",
      "display_name": "Python 3"
    },
    "language_info": {
      "name": "python"
    }
  },
  "cells": [
    {
      "cell_type": "code",
      "execution_count": 1,
      "metadata": {
        "colab": {
          "base_uri": "https://localhost:8080/"
        },
        "id": "dnEMri5m590I",
        "outputId": "938b1c60-afff-4b7b-a54e-2d67d2f86a69"
      },
      "outputs": [
        {
          "output_type": "stream",
          "name": "stdout",
          "text": [
            "Nombre: Juan Pérez, Departamento: Ingeniería, Salario: $50000\n",
            "Nombre: Juan Pérez, Departamento: Ingeniería, Salario: $55000\n",
            "Error: El salario no puede ser negativo.\n"
          ]
        }
      ],
      "source": [
        "from datetime import date\n",
        "\n",
        "class EmpleadoUniversitario:\n",
        "    def __init__(self, nombre, departamento, salario):\n",
        "        self.nombre = nombre\n",
        "        self.departamento = departamento\n",
        "        self.salario = salario\n",
        "\n",
        "    def get_nombre(self):\n",
        "        return self.nombre\n",
        "\n",
        "    def get_departamento(self):\n",
        "        return self.departamento\n",
        "\n",
        "    def get_salario(self):\n",
        "        return self.salario\n",
        "\n",
        "    def set_nombre(self, nuevo_nombre):\n",
        "        self.nombre = nuevo_nombre\n",
        "\n",
        "    def set_departamento(self, nuevo_departamento):\n",
        "        self.departamento = nuevo_departamento\n",
        "\n",
        "    def set_salario(self, nuevo_salario):\n",
        "        if nuevo_salario < 0:\n",
        "            print(\"Error: El salario no puede ser negativo.\")\n",
        "        else:\n",
        "            self.salario = nuevo_salario\n",
        "\n",
        "\n",
        "    def get_info(self):\n",
        "        return f\"Nombre: {self.nombre}, Departamento: {self.departamento}, Salario: ${self.salario}\"\n",
        "\n",
        "# Prueba de la clase\n",
        "empleado = EmpleadoUniversitario(\"Juan Pérez\", \"Ingeniería\", 50000)\n",
        "print(empleado.get_info())\n",
        "\n",
        "empleado.set_salario(55000)\n",
        "print(empleado.get_info())\n",
        "\n",
        "empleado.set_salario(-1000)\n"
      ]
    }
  ]
}