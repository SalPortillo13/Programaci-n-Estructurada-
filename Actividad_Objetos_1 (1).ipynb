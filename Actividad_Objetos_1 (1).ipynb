{
  "nbformat": 4,
  "nbformat_minor": 0,
  "metadata": {
    "colab": {
      "provenance": []
    },
    "kernelspec": {
      "name": "python3",
      "display_name": "Python 3"
    },
    "language_info": {
      "name": "python"
    }
  },
  "cells": [
    {
      "cell_type": "code",
      "execution_count": 2,
      "metadata": {
        "colab": {
          "base_uri": "https://localhost:8080/"
        },
        "id": "r27OM1mB2_bg",
        "outputId": "acb0d591-5119-4888-855f-005132dac3b7"
      },
      "outputs": [
        {
          "output_type": "stream",
          "name": "stdout",
          "text": [
            "Chevrolet Aveo, Año: 2018\n",
            "Última verificación: 2025-02-21\n"
          ]
        }
      ],
      "source": [
        "from datetime import date\n",
        "\n",
        "class Coche:\n",
        "    def __init__(self, marca, modelo, año):\n",
        "        self.marca = marca\n",
        "        self.modelo = modelo\n",
        "        self.año = año\n",
        "\n",
        "    def get_info(self):\n",
        "        return f\"{self.marca} {self.modelo}, Año: {self.año}\"\n",
        "\n",
        "    def ultima_verificación(self):\n",
        "        print(f\"Última verificación: {date.today()}\")\n",
        "\n",
        "# Crear una instancia y probar los métodos\n",
        "mi_carro = Coche(\"Chevrolet\", \"Aveo\", 2018)\n",
        "print(mi_carro.get_info())\n",
        "mi_carro.ultima_verificación()\n"
      ]
    }
  ]
}